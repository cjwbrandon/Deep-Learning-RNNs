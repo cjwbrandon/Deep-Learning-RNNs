{
 "cells": [
  {
   "cell_type": "code",
   "execution_count": 1,
   "metadata": {},
   "outputs": [],
   "source": [
    "import numpy as np"
   ]
  },
  {
   "cell_type": "markdown",
   "metadata": {},
   "source": [
    "# Load txt file"
   ]
  },
  {
   "cell_type": "code",
   "execution_count": 2,
   "metadata": {},
   "outputs": [
    {
     "data": {
      "text/plain": [
       "'Chapter 1\\n\\n\\nHappy families are all alike; every unhappy family is unhappy in its own\\nway.\\n\\nEverythin'"
      ]
     },
     "execution_count": 2,
     "metadata": {},
     "output_type": "execute_result"
    }
   ],
   "source": [
    "with open('../data/anna.txt', 'r') as f:\n",
    "    text = f.read()\n",
    "text[:100]"
   ]
  },
  {
   "cell_type": "markdown",
   "metadata": {},
   "source": [
    "# Tokenization"
   ]
  },
  {
   "cell_type": "code",
   "execution_count": 3,
   "metadata": {},
   "outputs": [],
   "source": [
    "chars = tuple(set(text))\n",
    "int_to_chars = dict(enumerate(chars))\n",
    "char_to_int = {char:i for i, char in int_to_chars.items()}"
   ]
  },
  {
   "cell_type": "code",
   "execution_count": 4,
   "metadata": {},
   "outputs": [],
   "source": [
    "first_100 = np.array([char_to_int[char] for char in text[:100]])"
   ]
  },
  {
   "cell_type": "markdown",
   "metadata": {},
   "source": [
    "# One-Hot Encoding"
   ]
  },
  {
   "cell_type": "code",
   "execution_count": 5,
   "metadata": {},
   "outputs": [],
   "source": [
    "def one_hot_encoder(arr, n_labels):\n",
    "    \n",
    "    # initialise one-hot output with zeros\n",
    "    one_hot = np.zeros([arr.size, n_labels], dtype=np.float32)\n",
    "    \n",
    "    # fill with 1s\n",
    "    one_hot[np.arange(arr.size), arr.flatten()] = 1\n",
    "    \n",
    "    # reshape back to arr\n",
    "    one_hot = one_hot.reshape((*arr.shape, n_labels))\n",
    "    \n",
    "    return one_hot"
   ]
  },
  {
   "cell_type": "code",
   "execution_count": 6,
   "metadata": {},
   "outputs": [
    {
     "name": "stdout",
     "output_type": "stream",
     "text": [
      "(100, 83)\n",
      "[[0. 0. 0. ... 0. 0. 0.]\n",
      " [0. 0. 0. ... 0. 0. 0.]\n",
      " [0. 0. 0. ... 0. 0. 0.]\n",
      " ...\n",
      " [0. 0. 0. ... 0. 0. 0.]\n",
      " [0. 0. 0. ... 0. 0. 0.]\n",
      " [0. 0. 0. ... 0. 0. 0.]]\n"
     ]
    }
   ],
   "source": [
    "# test\n",
    "one_hot = one_hot_encoder(first_100, len(chars))\n",
    "\n",
    "print(one_hot.shape)\n",
    "print(one_hot)"
   ]
  },
  {
   "cell_type": "markdown",
   "metadata": {},
   "source": [
    "# Splitting into mini-batches"
   ]
  },
  {
   "cell_type": "code",
   "execution_count": 7,
   "metadata": {},
   "outputs": [],
   "source": [
    "def create_batches(arr, batch_size, seq_len):\n",
    "    \n",
    "    # number of batches\n",
    "    num_batch = (len(arr)-1) // (batch_size*seq_len)\n",
    "    arr = arr[:num_batch*batch_size*seq_len + 1] # remove remaining chars\n",
    "    \n",
    "    # remove last text and first text for x & y respectively\n",
    "    x = arr[:-1]\n",
    "    y = arr[1:]\n",
    "    \n",
    "    # reshape them into number of batches x batch size x seq length x number of features\n",
    "    x = x.reshape(num_batch, batch_size, seq_len, -1)\n",
    "    y = y.reshape(num_batch, batch_size, seq_len, -1)\n",
    "    \n",
    "    return x, y"
   ]
  },
  {
   "cell_type": "code",
   "execution_count": 8,
   "metadata": {},
   "outputs": [
    {
     "name": "stdout",
     "output_type": "stream",
     "text": [
      "(8, 3, 4, 83)\n",
      "(8, 3, 4, 83)\n"
     ]
    }
   ],
   "source": [
    "# test\n",
    "batch_first_100_x, batch_first_100_y = create_batches(one_hot, 3, 4)\n",
    "print(batch_first_100_x.shape)\n",
    "print(batch_first_100_y.shape)"
   ]
  },
  {
   "cell_type": "code",
   "execution_count": 9,
   "metadata": {
    "scrolled": true
   },
   "outputs": [
    {
     "data": {
      "text/plain": [
       "array([[[[0., 0., 0., ..., 0., 0., 0.],\n",
       "         [0., 0., 0., ..., 0., 0., 0.],\n",
       "         [0., 0., 0., ..., 0., 0., 0.],\n",
       "         [0., 0., 0., ..., 0., 0., 0.]],\n",
       "\n",
       "        [[0., 0., 0., ..., 0., 0., 0.],\n",
       "         [0., 0., 0., ..., 0., 0., 0.],\n",
       "         [0., 0., 0., ..., 0., 0., 0.],\n",
       "         [0., 0., 0., ..., 0., 0., 0.]],\n",
       "\n",
       "        [[0., 0., 0., ..., 0., 1., 0.],\n",
       "         [0., 0., 0., ..., 0., 1., 0.],\n",
       "         [0., 0., 0., ..., 0., 1., 0.],\n",
       "         [0., 0., 0., ..., 0., 0., 0.]]],\n",
       "\n",
       "\n",
       "       [[[0., 0., 0., ..., 0., 0., 0.],\n",
       "         [0., 0., 0., ..., 0., 0., 0.],\n",
       "         [0., 0., 0., ..., 0., 0., 0.],\n",
       "         [0., 0., 0., ..., 0., 0., 0.]],\n",
       "\n",
       "        [[0., 0., 0., ..., 0., 0., 0.],\n",
       "         [0., 0., 0., ..., 0., 0., 0.],\n",
       "         [0., 0., 0., ..., 0., 0., 0.],\n",
       "         [0., 0., 0., ..., 0., 0., 0.]],\n",
       "\n",
       "        [[0., 0., 0., ..., 0., 0., 0.],\n",
       "         [0., 0., 0., ..., 0., 0., 0.],\n",
       "         [0., 0., 0., ..., 0., 0., 0.],\n",
       "         [0., 0., 0., ..., 0., 0., 0.]]],\n",
       "\n",
       "\n",
       "       [[[0., 0., 0., ..., 0., 0., 0.],\n",
       "         [0., 0., 0., ..., 0., 0., 0.],\n",
       "         [0., 0., 0., ..., 0., 0., 0.],\n",
       "         [0., 0., 0., ..., 0., 0., 0.]],\n",
       "\n",
       "        [[0., 0., 0., ..., 0., 0., 0.],\n",
       "         [0., 0., 0., ..., 0., 0., 0.],\n",
       "         [0., 0., 0., ..., 0., 0., 0.],\n",
       "         [0., 0., 0., ..., 0., 0., 0.]],\n",
       "\n",
       "        [[0., 0., 0., ..., 0., 0., 0.],\n",
       "         [0., 0., 0., ..., 0., 0., 0.],\n",
       "         [0., 0., 0., ..., 0., 0., 0.],\n",
       "         [0., 0., 0., ..., 0., 0., 0.]]],\n",
       "\n",
       "\n",
       "       ...,\n",
       "\n",
       "\n",
       "       [[[0., 0., 0., ..., 0., 0., 0.],\n",
       "         [0., 0., 0., ..., 0., 0., 0.],\n",
       "         [0., 0., 0., ..., 0., 0., 0.],\n",
       "         [0., 0., 0., ..., 0., 0., 0.]],\n",
       "\n",
       "        [[0., 0., 0., ..., 0., 0., 0.],\n",
       "         [0., 0., 0., ..., 0., 0., 0.],\n",
       "         [0., 0., 0., ..., 0., 0., 0.],\n",
       "         [0., 0., 0., ..., 0., 0., 0.]],\n",
       "\n",
       "        [[0., 0., 0., ..., 0., 0., 0.],\n",
       "         [0., 0., 0., ..., 0., 0., 0.],\n",
       "         [0., 0., 0., ..., 0., 0., 0.],\n",
       "         [0., 0., 0., ..., 0., 0., 0.]]],\n",
       "\n",
       "\n",
       "       [[[0., 0., 0., ..., 0., 0., 0.],\n",
       "         [0., 0., 0., ..., 0., 0., 0.],\n",
       "         [0., 0., 0., ..., 0., 0., 0.],\n",
       "         [0., 0., 0., ..., 0., 0., 0.]],\n",
       "\n",
       "        [[0., 0., 0., ..., 0., 0., 0.],\n",
       "         [0., 0., 0., ..., 0., 0., 0.],\n",
       "         [0., 0., 0., ..., 0., 0., 0.],\n",
       "         [0., 0., 0., ..., 0., 0., 0.]],\n",
       "\n",
       "        [[0., 0., 0., ..., 0., 0., 0.],\n",
       "         [0., 0., 0., ..., 0., 0., 0.],\n",
       "         [0., 0., 0., ..., 0., 0., 0.],\n",
       "         [0., 0., 0., ..., 0., 1., 0.]]],\n",
       "\n",
       "\n",
       "       [[[0., 0., 0., ..., 0., 0., 0.],\n",
       "         [0., 0., 0., ..., 0., 0., 0.],\n",
       "         [0., 0., 0., ..., 0., 0., 0.],\n",
       "         [0., 0., 0., ..., 0., 0., 0.]],\n",
       "\n",
       "        [[0., 0., 0., ..., 0., 1., 0.],\n",
       "         [0., 0., 0., ..., 0., 1., 0.],\n",
       "         [0., 0., 0., ..., 0., 0., 0.],\n",
       "         [0., 0., 0., ..., 0., 0., 0.]],\n",
       "\n",
       "        [[0., 0., 0., ..., 0., 0., 0.],\n",
       "         [0., 0., 0., ..., 0., 0., 0.],\n",
       "         [0., 0., 0., ..., 0., 0., 0.],\n",
       "         [0., 0., 0., ..., 0., 0., 0.]]]], dtype=float32)"
      ]
     },
     "execution_count": 9,
     "metadata": {},
     "output_type": "execute_result"
    }
   ],
   "source": [
    "batch_first_100_y"
   ]
  },
  {
   "cell_type": "markdown",
   "metadata": {},
   "source": [
    "# RNN model"
   ]
  },
  {
   "cell_type": "code",
   "execution_count": 10,
   "metadata": {},
   "outputs": [],
   "source": [
    "import torch\n",
    "from torch import nn\n",
    "import torch.nn.functional as F"
   ]
  },
  {
   "cell_type": "code",
   "execution_count": 11,
   "metadata": {},
   "outputs": [],
   "source": [
    "# check for gpu\n",
    "cuda = torch.cuda.is_available()"
   ]
  },
  {
   "cell_type": "code",
   "execution_count": 12,
   "metadata": {},
   "outputs": [],
   "source": [
    "class charRNN(nn.Module):\n",
    "    \n",
    "    def __init__(self, chars, n_hidden, n_layers, drop_prob, bi_dir, rnn_cell_type='lstm'):\n",
    "        super().__init__()\n",
    "        \n",
    "        # create char dictionaries\n",
    "        self.chars = chars # uniques characters\n",
    "        self.int_to_char = dict(enumerate(self.chars))\n",
    "        self.char_to_int = {char:i for i, char in int_to_chars.items()}\n",
    "        \n",
    "        # RNN Layer\n",
    "        if rnn_cell_type == 'lstm':\n",
    "            self.rnn = nn.LSTM(len(self.chars), n_hidden, n_layers, \n",
    "                               dropout=drop_prob, batch_first=True, bidirectional=bi_dir)\n",
    "        elif rnn_cell_type == 'gru':\n",
    "            self.rnn = nn.GRU(len(self.chars), n_hidden, n_layers, \n",
    "                              dropout=drop_prob, batch_first=True, bidirectional=bi_dir)\n",
    "        else:\n",
    "            self.rnn = nn.RNN(len(self.chars), n_hidden, n_layers, \n",
    "                              dropout=drop_prob, batch_first=True , bidirectional=bi_dir)\n",
    "            \n",
    "        # dropout layer\n",
    "        self.dropout = nn.Dropout(drop_prob)\n",
    "        \n",
    "        # dense layer\n",
    "        self.dense = nn.Linear(n_hidden, len(self.chars))\n",
    "        \n",
    "        # assign hyperparameters\n",
    "        self.n_layers = n_layers\n",
    "        self.n_hidden = n_hidden\n",
    "        \n",
    "        \n",
    "    def forward(self, x, hidden):\n",
    "        \n",
    "        # run text and hidden through the network\n",
    "        r_output, hidden = self.rnn(x, hidden)\n",
    "        \n",
    "        # pass through dropout layer\n",
    "        out = self.dropout(r_output)\n",
    "        \n",
    "        # you may need to use contiguous to reshape the output\n",
    "        out = out.contiguous().view(-1, self.n_hidden)\n",
    "        \n",
    "        # dense layer\n",
    "        out = self.dense(out)\n",
    "        \n",
    "        return out, hidden\n",
    "    \n",
    "    \n",
    "    def init_hidden(self, batch_size, cuda):\n",
    "        ''' Initializes hidden state '''\n",
    "        # Create two new tensors with sizes n_layers x batch_size x n_hidden,\n",
    "        # initialized to zero, for hidden state and cell state of LSTM\n",
    "        weight = next(self.parameters()).data\n",
    "        \n",
    "        if cuda:\n",
    "            hidden = (weight.new(self.n_layers, batch_size, self.n_hidden).zero_().cuda(),\n",
    "                  weight.new(self.n_layers, batch_size, self.n_hidden).zero_().cuda())\n",
    "        else:\n",
    "            hidden = (weight.new(self.n_layers, batch_size, self.n_hidden).zero_(),\n",
    "                      weight.new(self.n_layers, batch_size, self.n_hidden).zero_())\n",
    "        \n",
    "        return hidden"
   ]
  },
  {
   "cell_type": "code",
   "execution_count": 13,
   "metadata": {},
   "outputs": [
    {
     "name": "stdout",
     "output_type": "stream",
     "text": [
      "charRNN(\n",
      "  (rnn): LSTM(83, 32, num_layers=2, batch_first=True, dropout=0.2)\n",
      "  (dropout): Dropout(p=0.2, inplace=False)\n",
      "  (dense): Linear(in_features=32, out_features=83, bias=True)\n",
      ")\n"
     ]
    }
   ],
   "source": [
    "# hyperparamters\n",
    "n_hidden = 32\n",
    "n_layers = 2\n",
    "drop_prob = 0.2\n",
    "bi_dir = False\n",
    "rnn_cell_type = 'lstm'\n",
    "\n",
    "# create network\n",
    "char_rnn = charRNN(chars, n_hidden, n_layers, drop_prob, bi_dir, rnn_cell_type=rnn_cell_type)\n",
    "print(char_rnn)\n",
    "\n",
    "if cuda:\n",
    "    char_rnn.cuda()"
   ]
  },
  {
   "cell_type": "code",
   "execution_count": 14,
   "metadata": {},
   "outputs": [],
   "source": [
    "# Loss & optimizer\n",
    "lr = 0.01\n",
    "\n",
    "criterion = nn.CrossEntropyLoss()\n",
    "optimizer = torch.optim.Adam(char_rnn.parameters(), lr=lr)"
   ]
  },
  {
   "cell_type": "code",
   "execution_count": 15,
   "metadata": {},
   "outputs": [
    {
     "name": "stdout",
     "output_type": "stream",
     "text": [
      "Epochs: 1/50 --- Train loss: 2.8183773273208237 --- Validation loss: 2.3861084522739535\n",
      "Epochs: 11/50 --- Train loss: 1.9340277850414263 --- Validation loss: 1.8776989367700392\n",
      "Epochs: 21/50 --- Train loss: 1.8605353614335418 --- Validation loss: 1.8230656769967848\n",
      "Epochs: 31/50 --- Train loss: 1.8365029771695427 --- Validation loss: 1.8081970061025312\n",
      "Epochs: 41/50 --- Train loss: 1.822859485944112 --- Validation loss: 1.8035618412879206\n",
      "Epochs: 50/50 --- Train loss: 1.8125959976599635 --- Validation loss: 1.7974479929093392\n"
     ]
    }
   ],
   "source": [
    "epochs = 50\n",
    "batch_size = 64\n",
    "seq_len = 100\n",
    "valid_size = 0.1\n",
    "\n",
    "clip = 5 # clip gradients\n",
    "\n",
    "# train and validation loss\n",
    "train_loss = []\n",
    "val_loss = []\n",
    "n_print = 10\n",
    "\n",
    "# create training and validation data\n",
    "text_encoded = np.array([char_to_int[char] for char in text])\n",
    "val_idx = int(len(text_encoded)*(1-valid_size))\n",
    "one_hot = one_hot_encoder(text_encoded, len(chars))\n",
    "train_text, val_text = one_hot[:val_idx], one_hot[val_idx:]\n",
    "\n",
    "for e in range(epochs):\n",
    "    \n",
    "    # initialise hidden state\n",
    "    hid = char_rnn.init_hidden(batch_size, cuda)\n",
    "    \n",
    "    running_train_loss = []\n",
    "    \n",
    "    # create batches\n",
    "    x, y = create_batches(train_text, batch_size, seq_len)\n",
    "    # loop through each batch\n",
    "    for batch in range(x.shape[0]):\n",
    "        inputs, targets = x[batch], y[batch]\n",
    "        # convert to tensors\n",
    "        inputs, targets = torch.from_numpy(inputs), torch.from_numpy(targets)\n",
    "        \n",
    "        if cuda:\n",
    "            inputs, targets = inputs.cuda(), targets.cuda()\n",
    "            \n",
    "        # zero out gradients\n",
    "        char_rnn.zero_grad()\n",
    "        \n",
    "        # run forward prop\n",
    "        output, hid = char_rnn(inputs, hid)\n",
    "        hid = tuple([each.data for each in hid])\n",
    "        \n",
    "        # calculate loss\n",
    "        loss = criterion(output, torch.max(targets.view(batch_size*seq_len, -1), 1)[1])\n",
    "        running_train_loss.append(loss.item())\n",
    "        loss.backward()\n",
    "        \n",
    "        # clip gradient to prevent exploding gradients\n",
    "        nn.utils.clip_grad_norm_(char_rnn.parameters(), clip)\n",
    "        optimizer.step()\n",
    "    \n",
    "    train_loss.append(np.mean(running_train_loss))\n",
    "    \n",
    "    val_hid = char_rnn.init_hidden(batch_size, cuda)\n",
    "    running_val_loss = []\n",
    "    char_rnn.eval() # set to eval to prevent accidental updates of weights on validation set\n",
    "\n",
    "    x, y = create_batches(val_text, batch_size, seq_len)\n",
    "    # loop through each batch\n",
    "    for batch in range(x.shape[0]):\n",
    "        inputs, targets = x[batch], y[batch]\n",
    "        # convert to tensors\n",
    "        inputs, targets = torch.from_numpy(inputs), torch.from_numpy(targets)\n",
    "\n",
    "        if cuda:\n",
    "            inputs, targets = inputs.cuda(), targets.cuda()\n",
    "\n",
    "        # run forward prop\n",
    "        output, val_hid = char_rnn(inputs, val_hid)\n",
    "        val_hid = tuple([each.data for each in val_hid])\n",
    "\n",
    "        # calculate loss\n",
    "        loss = criterion(output, torch.max(targets.view(batch_size*seq_len, -1), 1)[1])\n",
    "        running_val_loss.append(loss.item())\n",
    "    \n",
    "    val_loss.append(np.mean(running_val_loss))\n",
    "    char_rnn.train()\n",
    "        \n",
    "    if e % n_print == 0:\n",
    "        print(f\"Epochs: {int(e+1)}/{int(epochs)} --- Train loss: {np.mean(running_train_loss)} --- Validation loss: {np.mean(running_val_loss)}\")\n",
    "        \n",
    "print(f\"Epochs: {int(e+1)}/{int(epochs)} --- Train loss: {np.mean(running_train_loss)} --- Validation loss: {np.mean(running_val_loss)}\")"
   ]
  },
  {
   "cell_type": "code",
   "execution_count": 19,
   "metadata": {},
   "outputs": [],
   "source": [
    "import matplotlib.pyplot as plt\n",
    "import seaborn as sns\n",
    "%matplotlib inline"
   ]
  },
  {
   "cell_type": "code",
   "execution_count": 21,
   "metadata": {},
   "outputs": [
    {
     "data": {
      "image/png": "[encoded data removed]",
      "text/plain": [
       "<Figure size 1440x1440 with 1 Axes>"
      ]
     },
     "metadata": {
      "needs_background": "light"
     },
     "output_type": "display_data"
    }
   ],
   "source": [
    "# Plot training loss vs validation loss\n",
    "plt.figure(figsize=(20,20))\n",
    "sns.lineplot(y=train_loss, x=range(epochs))\n",
    "plt.plot(range(epochs), val_loss, color='green')\n",
    "plt.title('Training (blue) vs. Validation (green) loss')\n",
    "plt.show()"
   ]
  },
  {
   "cell_type": "markdown",
   "metadata": {},
   "source": [
    "# Prediction"
   ]
  },
  {
   "cell_type": "code",
   "execution_count": 27,
   "metadata": {},
   "outputs": [],
   "source": [
    "initial = 'Banana'\n",
    "top_k = 5 # number of top probabilities to randomly draw from\n",
    "\n",
    "char_rnn.eval()\n",
    "\n",
    "output = [char for char in initial]\n",
    "\n",
    "hid = char_rnn.init_hidden(1, cuda)\n",
    "\n",
    "# loop through the characters in initial to update hid\n",
    "for char in initial:\n",
    "    \n",
    "    # transform character to int and one-hot encode\n",
    "    x = np.array([[char_rnn.char_to_int[char]]])\n",
    "    x = one_hot_encoder(x, len(char_rnn.chars))\n",
    "    inputs = torch.from_numpy(x) # convert to tensor\n",
    "    \n",
    "    # move tensor to gpu if exist\n",
    "    if cuda:\n",
    "        inputs = inputs.cuda()\n",
    "    \n",
    "    # detach hidden state from history\n",
    "    hid = tuple([each.data for each in hid])\n",
    "    \n",
    "    # run through forward prop\n",
    "    out, hid = char_rnn(inputs, hid)\n",
    "    \n",
    "    # convert to probabilities\n",
    "    p = F.softmax(out, dim=1).data\n",
    "    \n",
    "    # move back to cpu\n",
    "    if cuda:\n",
    "        p = p.cpu()\n",
    "    \n",
    "    # get top characters\n",
    "    p, top_char = p.topk(top_k)\n",
    "    top_char = top_char.numpy().squeeze()\n",
    "    p = p.numpy().squeeze()\n",
    "    \n",
    "    # randomly draw from top characters\n",
    "    char_out = np.random.choice(top_char, p=p/p.sum())\n",
    "    \n",
    "    # convert back to character\n",
    "    char_out = char_rnn.int_to_char[char_out]\n",
    "\n",
    "# append the last character\n",
    "output.append(char_out)"
   ]
  },
  {
   "cell_type": "code",
   "execution_count": 29,
   "metadata": {},
   "outputs": [],
   "source": [
    "generate = 1000 # number of characters to generate after\n",
    "\n",
    "# predict next characters\n",
    "for i in range(generate):\n",
    "    \n",
    "    # transform character to int and one-hot encode\n",
    "    x = np.array([[char_rnn.char_to_int[output[-1]]]])\n",
    "    x = one_hot_encoder(x, len(char_rnn.chars))\n",
    "    inputs = torch.from_numpy(x) # convert to tensor\n",
    "    \n",
    "    # move tensor to gpu if exist\n",
    "    if cuda:\n",
    "        inputs = inputs.cuda()\n",
    "    \n",
    "    # detach hidden state from history\n",
    "    hid = tuple([each.data for each in hid])\n",
    "    \n",
    "    # run through forward prop\n",
    "    out, hid = char_rnn(inputs, hid)\n",
    "    \n",
    "    # convert to probabilities\n",
    "    p = F.softmax(out, dim=1).data\n",
    "    \n",
    "    # move back to cpu\n",
    "    if cuda:\n",
    "        p = p.cpu()\n",
    "    \n",
    "    # get top characters\n",
    "    p, top_char = p.topk(top_k)\n",
    "    top_char = top_char.numpy().squeeze()\n",
    "    p = p.numpy().squeeze()\n",
    "    \n",
    "    # randomly draw from top characters\n",
    "    char_out = np.random.choice(top_char, p=p/p.sum())\n",
    "    \n",
    "    # convert back to character\n",
    "    char_out = char_rnn.int_to_char[char_out]\n",
    "\n",
    "    # append the last character\n",
    "    output.append(char_out)"
   ]
  },
  {
   "cell_type": "code",
   "execution_count": 32,
   "metadata": {},
   "outputs": [
    {
     "name": "stdout",
     "output_type": "stream",
     "text": [
      "Bananad in that, and sought he cishe\n",
      "was with his have with is her humation was she had helking the so as interensed he wanted of the him his all an thing thought why which\n",
      "the more and a mes had for the thought at the hand her had saw worth to sensing of the hards as the to her when the hilked out as\n",
      "how. She sore he called to the touling that then he said\n",
      "that they seted he\n",
      "he the moving it\n",
      "an to the same were say, when at the handing was said if his how as what, what all that as it's harfer at his tabling to said ous any at\n",
      "her with his at her his so son, and too she wurse, art the hunfing well of\n",
      "the moving his wanched all sees,, she had feinetiatious an heel he set taken the something asked in the saclith the so with the husbard is, he wuttid he her had what how thoughe was sore, and as the pect here, and hursing a hand to saw in thong was here how to anywiun on him, have\n",
      "the the\n",
      "part to telled\n",
      "all him, that an,\n",
      "he she was wells her a carrian his to tellering to the peasarding and strily\n"
     ]
    }
   ],
   "source": [
    "print(''.join(output))"
   ]
  },
  {
   "cell_type": "markdown",
   "metadata": {},
   "source": [
    "# Conclusion\n",
    "As you can see, the text doesnt really make too much sense, but at least most of the characters are pieced together to form complete words. This is after training for approximately 5 to 10 mins to run through the 50 epochs.\n",
    "\n",
    "As seen from the train and validation loss curve, I believe that I can run more epochs to further improve the loss. On top of that, I believe the architecture of the RNN is relatively simple and using a different set of hyperparameters can allow it to map much more complex functions which could reduce the loss even further."
   ]
  },
  {
   "cell_type": "markdown",
   "metadata": {},
   "source": [
    "# References\n",
    "udacity deep learning w/ pytorch course\n",
    "- https://github.com/udacity/deep-learning-v2-pytorch/tree/master/recurrent-neural-networks/char-rnn\n",
    "\n",
    "PyTorch\n",
    "- https://pytorch.org/"
   ]
  },
  {
   "cell_type": "code",
   "execution_count": null,
   "metadata": {},
   "outputs": [],
   "source": []
  }
 ],
 "metadata": {
  "kernelspec": {
   "display_name": "Python 3",
   "language": "python",
   "name": "python3"
  },
  "language_info": {
   "codemirror_mode": {
    "name": "ipython",
    "version": 3
   },
   "file_extension": ".py",
   "mimetype": "text/x-python",
   "name": "python",
   "nbconvert_exporter": "python",
   "pygments_lexer": "ipython3",
   "version": "3.7.4"
  }
 },
 "nbformat": 4,
 "nbformat_minor": 2
}
