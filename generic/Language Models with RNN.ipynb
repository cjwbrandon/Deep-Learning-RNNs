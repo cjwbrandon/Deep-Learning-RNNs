{
 "cells": [
  {
   "cell_type": "code",
   "execution_count": 1,
   "metadata": {},
   "outputs": [],
   "source": [
    "import numpy as np"
   ]
  },
  {
   "cell_type": "markdown",
   "metadata": {},
   "source": [
    "# Building a Language Model\n",
    "\n",
    "A language model models the probability of the next word or sentence in a sequence based on the words already observed. It is a fundamental component of both speech recognition systems and machine translation systems.\n",
    "\n",
    "In this notebook, I will attempt to train a simple language model trained on text from The Republic by Plato.\n",
    "\n",
    "References: \n",
    "- https://machinelearningmastery.com/how-to-develop-a-word-level-neural-language-model-in-keras/\n",
    "- Deep learning specialisation by Andrew Ng"
   ]
  },
  {
   "cell_type": "markdown",
   "metadata": {},
   "source": [
    "# Import text file"
   ]
  },
  {
   "cell_type": "code",
   "execution_count": 2,
   "metadata": {},
   "outputs": [
    {
     "data": {
      "text/plain": [
       "'\\ufeffThe Project Gutenberg EBook of The Republic, by Plato\\n\\nThis eBook is for the use of anyone anywhere at no cost and with\\nalmost no restrictions whatsoever.  You may copy it, give it away or\\nre-use it under the terms of the Project Gutenberg License included\\nwith this eBook or online at www.gutenberg.org\\n\\n\\nTitle: The Republic\\n\\nAuthor: Plato\\n\\nTranslator: B. Jowett\\n\\nPosting Date: August 27, 2008 [EBook #1497]\\nRelease Date: October, 1998\\nLast Updated: June 22, 2016\\n\\nLanguage: English\\n\\n\\n*** START OF '"
      ]
     },
     "execution_count": 2,
     "metadata": {},
     "output_type": "execute_result"
    }
   ],
   "source": [
    "with open('../data/republic.txt', 'r') as f:\n",
    "    text = f.read()\n",
    "text[:500]"
   ]
  },
  {
   "cell_type": "markdown",
   "metadata": {},
   "source": [
    "# Clean text\n",
    "Often, these text files contains 'noise' such as punctuations, capitalisation, words from a different language, etc, that can influence our neural network performance. As such, we will need to remove them before we can feed the data into our neural network."
   ]
  },
  {
   "cell_type": "code",
   "execution_count": 3,
   "metadata": {},
   "outputs": [],
   "source": [
    "import nltk"
   ]
  },
  {
   "cell_type": "code",
   "execution_count": 4,
   "metadata": {},
   "outputs": [],
   "source": [
    "# tokenize text - split by space or punctuations\n",
    "text = nltk.wordpunct_tokenize(text)\n",
    "# retain only alphabetic words & convert to lower cases\n",
    "text = [w.lower() for w in text if w.lower().isalpha()]"
   ]
  },
  {
   "cell_type": "code",
   "execution_count": 5,
   "metadata": {
    "scrolled": true
   },
   "outputs": [
    {
     "data": {
      "text/plain": [
       "['the',\n",
       " 'project',\n",
       " 'gutenberg',\n",
       " 'ebook',\n",
       " 'of',\n",
       " 'the',\n",
       " 'republic',\n",
       " 'by',\n",
       " 'plato',\n",
       " 'this',\n",
       " 'ebook',\n",
       " 'is',\n",
       " 'for',\n",
       " 'the',\n",
       " 'use',\n",
       " 'of',\n",
       " 'anyone',\n",
       " 'anywhere',\n",
       " 'at',\n",
       " 'no',\n",
       " 'cost',\n",
       " 'and',\n",
       " 'with',\n",
       " 'almost',\n",
       " 'no',\n",
       " 'restrictions',\n",
       " 'whatsoever',\n",
       " 'you',\n",
       " 'may',\n",
       " 'copy',\n",
       " 'it',\n",
       " 'give',\n",
       " 'it',\n",
       " 'away',\n",
       " 'or',\n",
       " 're',\n",
       " 'use',\n",
       " 'it',\n",
       " 'under',\n",
       " 'the',\n",
       " 'terms',\n",
       " 'of',\n",
       " 'the',\n",
       " 'project',\n",
       " 'gutenberg',\n",
       " 'license',\n",
       " 'included',\n",
       " 'with',\n",
       " 'this',\n",
       " 'ebook']"
      ]
     },
     "execution_count": 5,
     "metadata": {},
     "output_type": "execute_result"
    }
   ],
   "source": [
    "text[:50]"
   ]
  },
  {
   "cell_type": "markdown",
   "metadata": {},
   "source": [
    "# Train Test Split\n",
    "Now that we have cleaned our data, we will split them into an training set and test set."
   ]
  },
  {
   "cell_type": "code",
   "execution_count": 46,
   "metadata": {
    "scrolled": false
   },
   "outputs": [],
   "source": [
    "train_size = 0.8\n",
    "split = int(np.ceil(len(text) * train_size))\n",
    "trainset = text[:split]\n",
    "valset = text[split:]"
   ]
  },
  {
   "cell_type": "markdown",
   "metadata": {},
   "source": [
    "# Vocab list & One-hot encoding\n",
    "In order to feed our words into a neural network, we need to encode them using one-hot encoding. Unlike us, neural networks require a numerical representation for it to understand the data. In order to do that, we must first know the number of distinct words we have to know the length of our one-hot vector."
   ]
  },
  {
   "cell_type": "code",
   "execution_count": 53,
   "metadata": {},
   "outputs": [],
   "source": [
    "idx2word = dict(enumerate(set(trainset)))\n",
    "word2idx = {char:i for i, char in idx2word.items()}"
   ]
  },
  {
   "cell_type": "code",
   "execution_count": 55,
   "metadata": {},
   "outputs": [],
   "source": [
    "# out of vocab\n",
    "idx2word[len(idx2word)] = '<OOV>'\n",
    "word2idx['<OOV>'] = len(word2idx)"
   ]
  },
  {
   "cell_type": "code",
   "execution_count": 57,
   "metadata": {},
   "outputs": [
    {
     "name": "stdout",
     "output_type": "stream",
     "text": [
      "Number of distinct words: 9547\n"
     ]
    }
   ],
   "source": [
    "vocab_size = len(word2idx)\n",
    "print('Number of distinct words: {}'.format(vocab_size))"
   ]
  },
  {
   "cell_type": "code",
   "execution_count": 58,
   "metadata": {},
   "outputs": [],
   "source": [
    "# convert to text to integers\n",
    "trainset_idx = np.array([word2idx[w] for w in trainset])"
   ]
  },
  {
   "cell_type": "code",
   "execution_count": 60,
   "metadata": {},
   "outputs": [
    {
     "data": {
      "text/plain": [
       "(176406, 9547)"
      ]
     },
     "execution_count": 60,
     "metadata": {},
     "output_type": "execute_result"
    }
   ],
   "source": [
    "# initialise one hot matrix with trainset_idx number of rows and number of vocab words as columns\n",
    "trainset_onehot = np.zeros([trainset_idx.size, len(idx2word)], dtype=np.float32)\n",
    "# fill the respective columns each 1\n",
    "trainset_onehot[np.arange(trainset_idx.size), trainset_idx.flatten()] = 1\n",
    "trainset_onehot.shape"
   ]
  },
  {
   "cell_type": "code",
   "execution_count": 61,
   "metadata": {},
   "outputs": [],
   "source": [
    "# val set - dealing with out of vocab\n",
    "valset_idx = []\n",
    "for w in valset:\n",
    "    if w not in word2idx.keys():\n",
    "        valset_idx.append(word2idx['<OOV>'])\n",
    "    else:\n",
    "        valset_idx.append(word2idx[w])\n",
    "valset_idx = np.array(valset_idx)"
   ]
  },
  {
   "cell_type": "code",
   "execution_count": 63,
   "metadata": {},
   "outputs": [
    {
     "data": {
      "text/plain": [
       "(44101, 9547)"
      ]
     },
     "execution_count": 63,
     "metadata": {},
     "output_type": "execute_result"
    }
   ],
   "source": [
    "# initialise one hot matrix with trainset_idx number of rows and number of vocab words as columns\n",
    "valset_onehot = np.zeros([valset_idx.size, len(idx2word)], dtype=np.float32)\n",
    "# fill the respective columns each 1\n",
    "valset_onehot[np.arange(valset_idx.size), valset_idx.flatten()] = 1\n",
    "valset_onehot.shape"
   ]
  },
  {
   "cell_type": "markdown",
   "metadata": {},
   "source": [
    "# Split into Mini-batches"
   ]
  },
  {
   "cell_type": "code",
   "execution_count": 67,
   "metadata": {},
   "outputs": [],
   "source": [
    "seq_len = 50\n",
    "batch_size = 32\n",
    "\n",
    "num_batch = (len(trainset_onehot) -1) // (batch_size*seq_len) # number of batches\n",
    "trainset_onehot = trainset_onehot[:num_batch*batch_size*seq_len+1] # removing extra words\n",
    "\n",
    "num_batch_val = (len(valset_onehot) -1) // (batch_size*seq_len) # number of batches\n",
    "valset_onehot = valset_onehot[:num_batch_val*batch_size*seq_len+1] # removing extra words"
   ]
  },
  {
   "cell_type": "code",
   "execution_count": 68,
   "metadata": {},
   "outputs": [],
   "source": [
    "x_train = trainset_onehot[:-1]\n",
    "y_train = trainset_onehot[1:]\n",
    "\n",
    "x_val = valset_onehot[:-1]\n",
    "y_val = valset_onehot[1:]"
   ]
  },
  {
   "cell_type": "code",
   "execution_count": 69,
   "metadata": {},
   "outputs": [],
   "source": [
    "# reshape them into number of batches x batch size x seq length x number of features\n",
    "x_train = x_train.reshape(num_batch, batch_size, seq_len, -1)\n",
    "y_train = y_train.reshape(num_batch, batch_size, seq_len, -1)\n",
    "\n",
    "x_val = x_val.reshape(num_batch_val, batch_size, seq_len, -1)\n",
    "y_val = y_val.reshape(num_batch_val, batch_size, seq_len, -1)"
   ]
  },
  {
   "cell_type": "code",
   "execution_count": 70,
   "metadata": {},
   "outputs": [
    {
     "data": {
      "text/plain": [
       "(110, 32, 50, 9547)"
      ]
     },
     "execution_count": 70,
     "metadata": {},
     "output_type": "execute_result"
    }
   ],
   "source": [
    "x_train.shape"
   ]
  },
  {
   "cell_type": "markdown",
   "metadata": {},
   "source": [
    "# Model\n",
    "For starters, I will be using a simple Network made up of RNN cells to map the function. Given the data, I will be using a sequence to sequence architecture where the Network will take in a single word and output a prediction of the next word at every cell. \n",
    "\n",
    "A RNN cell passes on the Activations to the next cell. This means that the next cell will possess the information from the previous cells (words) before predicting the next word."
   ]
  },
  {
   "cell_type": "code",
   "execution_count": 33,
   "metadata": {},
   "outputs": [],
   "source": [
    "import torch\n",
    "from torch import nn, optim\n",
    "import torch.nn.functional as F\n",
    "\n",
    "import matplotlib.pyplot as plt\n",
    "import seaborn as sns\n",
    "%matplotlib inline"
   ]
  },
  {
   "cell_type": "code",
   "execution_count": 72,
   "metadata": {},
   "outputs": [],
   "source": [
    "class Simple_RNN(nn.Module):\n",
    "    def __init__(self, vocab_size, n_hidden, n_layers, drop_prob=0):\n",
    "        super(Simple_RNN, self).__init__()\n",
    "        \n",
    "        # RNN Layer\n",
    "        self.rnn = nn.RNN(vocab_size, n_hidden, n_layers, dropout=drop_prob, batch_first=True, nonlinearity='relu')\n",
    "        \n",
    "        # dropout layer\n",
    "        self.dropout = nn.Dropout(drop_prob)\n",
    "        \n",
    "        # Linear layer\n",
    "        self.output = nn.Linear(n_hidden, vocab_size)\n",
    "        \n",
    "        # HPs\n",
    "        self.n_hidden = n_hidden\n",
    "        self.n_layers = n_layers\n",
    "        \n",
    "    def forward(self, x, hidden): # RNN have an additional input, hidden. This refers to a[0], the initial activation to be fed into the first cell\n",
    "        \n",
    "        # RNN\n",
    "        output, hidden = self.rnn(x, hidden)\n",
    "        \n",
    "        # dropout layer\n",
    "        output = self.dropout(output)\n",
    "        \n",
    "        # reshape\n",
    "        output = output.contiguous().view(-1, n_hidden)\n",
    "        \n",
    "        # output layer\n",
    "        output = self.output(output)\n",
    "        \n",
    "        return output, hidden\n",
    "    \n",
    "    def init_hidden(self, batch_size, cuda): # Initialise our hidden units, a[0]\n",
    "        weight = next(self.parameters()).data\n",
    "        \n",
    "        # initialise weights to have dimensions layers x batch size x hidden units\n",
    "        if cuda:\n",
    "            hidden = torch.zeros(self.n_layers, batch_size, self.n_hidden, dtype=torch.float, requires_grad=True, device='cuda')\n",
    "            #hidden = weight.new(self.n_layers, batch_size, self.n_hidden).zero_().cuda()\n",
    "        else:\n",
    "            hidden = torch.zeros(self.n_layers, batch_size, self.n_hidden, dtype=torch.float, requires_grad=True, device='cpu')\n",
    "\n",
    "        return hidden"
   ]
  },
  {
   "cell_type": "code",
   "execution_count": 73,
   "metadata": {},
   "outputs": [],
   "source": [
    "# check for gpu\n",
    "cuda = torch.cuda.is_available()"
   ]
  },
  {
   "cell_type": "markdown",
   "metadata": {},
   "source": [
    "# Training"
   ]
  },
  {
   "cell_type": "code",
   "execution_count": 78,
   "metadata": {},
   "outputs": [
    {
     "name": "stdout",
     "output_type": "stream",
     "text": [
      "Simple_RNN(\n",
      "  (rnn): RNN(9547, 16, batch_first=True, dropout=0.2)\n",
      "  (dropout): Dropout(p=0.2, inplace=False)\n",
      "  (output): Linear(in_features=16, out_features=9547, bias=True)\n",
      ")\n"
     ]
    }
   ],
   "source": [
    "# hyperparamters\n",
    "n_hidden = 16\n",
    "n_layers = 1\n",
    "drop_prob = 0.2\n",
    "\n",
    "# create network\n",
    "simple_rnn = Simple_RNN(vocab_size, n_hidden, n_layers, drop_prob=drop_prob)\n",
    "print(simple_rnn)\n",
    "\n",
    "if cuda:\n",
    "    simple_rnn.cuda()"
   ]
  },
  {
   "cell_type": "code",
   "execution_count": 79,
   "metadata": {},
   "outputs": [],
   "source": [
    "# Loss & optimizer\n",
    "criterion = nn.CrossEntropyLoss()\n",
    "optimiser = torch.optim.Adam(simple_rnn.parameters(), lr=0.01)"
   ]
  },
  {
   "cell_type": "code",
   "execution_count": 80,
   "metadata": {
    "scrolled": true
   },
   "outputs": [
    {
     "name": "stdout",
     "output_type": "stream",
     "text": [
      "Epochs: 1/20 --- Train loss: 6.639915917136452 --- Val loss: 6.152530122686316\n",
      "Epochs: 2/20 --- Train loss: 5.928027842261574 --- Val loss: 5.9482412868075905\n",
      "Epochs: 3/20 --- Train loss: 5.707821434194392 --- Val loss: 5.867730970735903\n",
      "Epochs: 4/20 --- Train loss: 5.569010435451161 --- Val loss: 5.824100776954934\n",
      "Epochs: 5/20 --- Train loss: 5.45843094478954 --- Val loss: 5.797015896549931\n",
      "Epochs: 6/20 --- Train loss: 5.375033968145197 --- Val loss: 5.7869585178516525\n",
      "Epochs: 7/20 --- Train loss: 5.30893723747947 --- Val loss: 5.796208187385842\n",
      "Epochs: 8/20 --- Train loss: 5.261008800159801 --- Val loss: 5.807946240460431\n",
      "Epochs: 9/20 --- Train loss: 5.211554444919933 --- Val loss: 5.817097151720965\n",
      "Epochs: 10/20 --- Train loss: 5.1739704955707895 --- Val loss: 5.839947983070656\n",
      "Epochs: 11/20 --- Train loss: 5.1438469453291455 --- Val loss: 5.861748995604338\n",
      "Epochs: 12/20 --- Train loss: 5.11333518895236 --- Val loss: 5.87154448473895\n",
      "Epochs: 13/20 --- Train loss: 5.087533916126598 --- Val loss: 5.903320135893645\n",
      "Epochs: 14/20 --- Train loss: 5.070385482094505 --- Val loss: 5.918575604756673\n",
      "Epochs: 15/20 --- Train loss: 5.05111253044822 --- Val loss: 5.933653266341598\n",
      "Epochs: 16/20 --- Train loss: 5.0346391764554115 --- Val loss: 5.9740475725244595\n",
      "Epochs: 17/20 --- Train loss: 5.025844647667625 --- Val loss: 5.9686042467753095\n",
      "Epochs: 18/20 --- Train loss: 5.015230928767811 --- Val loss: 6.010337705965395\n",
      "Epochs: 19/20 --- Train loss: 5.00236800367182 --- Val loss: 6.053509888825594\n",
      "Epochs: 20/20 --- Train loss: 4.986993178454313 --- Val loss: 6.055471738179524\n"
     ]
    }
   ],
   "source": [
    "epochs = 20\n",
    "clip = 5 # clip gradients to avoid exploding gradients\n",
    "train_loss = []\n",
    "val_loss = []\n",
    "\n",
    "for e in range(epochs):\n",
    "    \n",
    "    # training set\n",
    "    # initialise hidden state\n",
    "    hid = simple_rnn.init_hidden(batch_size, cuda)\n",
    "    running_train_loss = []\n",
    "    \n",
    "    for batch in range(x_train.shape[0]):\n",
    "        # current batch\n",
    "        features, targets = x_train[batch], y_train[batch]\n",
    "        \n",
    "        # convert to tensors\n",
    "        features, targets = torch.from_numpy(features), torch.from_numpy(targets)\n",
    "        \n",
    "        if cuda:\n",
    "            features, targets = features.cuda(), targets.cuda()\n",
    "            \n",
    "        # zero gradients\n",
    "        simple_rnn.zero_grad()\n",
    "        \n",
    "        # forwrard prop\n",
    "        output, hid = simple_rnn(features, hid)\n",
    "        hid = hid.data\n",
    "        \n",
    "        # calculate loss\n",
    "        loss = criterion(output, torch.max(targets.view(batch_size*seq_len, -1), 1)[1])\n",
    "        running_train_loss.append(loss.item())\n",
    "        loss.backward() # backprop\n",
    "        \n",
    "        # clip gradient\n",
    "        nn.utils.clip_grad_norm_(simple_rnn.parameters(), clip)\n",
    "        optimiser.step()\n",
    "        \n",
    "    train_loss.append(np.mean(running_train_loss))\n",
    "    \n",
    "    # val set\n",
    "    # initialise hidden state\n",
    "    hid = simple_rnn.init_hidden(batch_size, cuda)\n",
    "    running_val_loss = []\n",
    "\n",
    "    for batch in range(x_val.shape[0]):\n",
    "        # current batch\n",
    "        features, targets = x_val[batch], y_val[batch]\n",
    "        \n",
    "        # convert to tensors\n",
    "        features, targets = torch.from_numpy(features), torch.from_numpy(targets)\n",
    "        \n",
    "        if cuda:\n",
    "            features, targets = features.cuda(), targets.cuda()\n",
    "        \n",
    "        # forwrard prop\n",
    "        output, hid = simple_rnn(features, hid)\n",
    "        hid = hid.data\n",
    "        \n",
    "        # calculate loss\n",
    "        loss = criterion(output, torch.max(targets.view(batch_size*seq_len, -1), 1)[1])\n",
    "        running_val_loss.append(loss.item())\n",
    "        \n",
    "    val_loss.append(np.mean(running_val_loss))\n",
    "    \n",
    "    print(f\"Epochs: {int(e+1)}/{int(epochs)} --- Train loss: {np.mean(running_train_loss)} --- Val loss: {np.mean(running_val_loss)}\")"
   ]
  },
  {
   "cell_type": "code",
   "execution_count": 81,
   "metadata": {
    "scrolled": true
   },
   "outputs": [
    {
     "data": {
      "image/png": "[encoded data removed]",
      "text/plain": [
       "<Figure size 1440x1440 with 1 Axes>"
      ]
     },
     "metadata": {
      "needs_background": "light"
     },
     "output_type": "display_data"
    }
   ],
   "source": [
    "# Plot training loss vs validation loss\n",
    "plt.figure(figsize=(20,20))\n",
    "sns.lineplot(y=train_loss, x=range(epochs))\n",
    "plt.plot(range(epochs), val_loss, color='green')\n",
    "plt.title('Training (blue) vs. Validation (green) loss')\n",
    "plt.show()"
   ]
  },
  {
   "cell_type": "markdown",
   "metadata": {},
   "source": [
    "# Prediction\n",
    "Now, we want to test our model by generating a bunch of text. We will do this by feeding the model a few words \n",
    "to initialise its hidden state. From then forth, the network will be taking its last predicted word as its input and continue generating the next word on its own. Hopefully, we will be able to observe a result that is readeable and similar to the original text."
   ]
  },
  {
   "cell_type": "code",
   "execution_count": 109,
   "metadata": {
    "scrolled": true
   },
   "outputs": [],
   "source": [
    "simple_rnn.eval() # put to evaluation to avoid changing the weights\n",
    "simple_rnn.cpu()\n",
    "\n",
    "initial = ['the', 'republic', 'of', 'plato']\n",
    "top_k = 5 # we draw the top 5 probable next word and randomly draw from them. This creates some variability in the output text\n",
    "\n",
    "output = [w for w in initial]\n",
    "\n",
    "hid = simple_rnn.init_hidden(1, cuda=False)\n",
    "\n",
    "for w in initial:\n",
    "    # transform into idx and one-hot\n",
    "    idx = np.array([word2idx[w]])\n",
    "    x = torch.zeros([1, len(idx2word)], dtype=torch.float, requires_grad=False)\n",
    "    x[0, idx] = 1\n",
    "    x = x.view([1, 1, len(idx2word)])\n",
    "    \n",
    "    # forward prop\n",
    "    out, hid = simple_rnn(x, hid)\n",
    "    p = F.softmax(out, dim=1).data # convert to probabilities using Softmax Function\n",
    "    \n",
    "    # get top words\n",
    "    p, top_w = p.topk(top_k)\n",
    "    top_w = top_w.numpy().squeeze()\n",
    "    p = p.numpy().squeeze()\n",
    "    \n",
    "    # randomly choose word\n",
    "    word_out = np.random.choice(top_w, p=p/p.sum())\n",
    "    word_out = idx2word[word_out]\n",
    "    \n",
    "output.append(word_out) # only store the last word"
   ]
  },
  {
   "cell_type": "markdown",
   "metadata": {},
   "source": [
    "Now that we have our hidden states, we will start generating more text. Note to not reinitialise our hidden state."
   ]
  },
  {
   "cell_type": "code",
   "execution_count": 114,
   "metadata": {},
   "outputs": [],
   "source": [
    "generate = 1000 # generate 100 words\n",
    "\n",
    "for i in range(generate):\n",
    "    \n",
    "    # transform the latest word to one-hot\n",
    "    idx = np.array([word2idx[output[-1]]])\n",
    "    x = torch.zeros([1, len(idx2word)], dtype=torch.float, requires_grad=False)\n",
    "    x[0, idx] = 1\n",
    "    x = x.view([1, 1, len(idx2word)])\n",
    "    \n",
    "    # forward prop\n",
    "    out, hid = simple_rnn(x, hid)\n",
    "    p = F.softmax(out, dim=1).data # convert to probabilities using Softmax Function\n",
    "    \n",
    "    # get top words\n",
    "    p, top_w = p.topk(top_k)\n",
    "    top_w = top_w.numpy().squeeze()\n",
    "    p = p.numpy().squeeze()\n",
    "    \n",
    "    # randomly choose word\n",
    "    word_out = np.random.choice(top_w, p=p/p.sum())\n",
    "    word_out = idx2word[word_out]\n",
    "    \n",
    "    output.append(word_out) # store word"
   ]
  },
  {
   "cell_type": "code",
   "execution_count": 115,
   "metadata": {
    "scrolled": true
   },
   "outputs": [
    {
     "data": {
      "text/plain": [
       "'the republic of plato and to the same man will not the soul and in the soul is not the state of the same state is not in the state and the same state is to be and that they were a man of the whole of the state of the same way and the state of the other of the state of our way in a state and that we are to a great place of the state and the state of the state of all and the same and the other which is to be in the same and will be no and the good and is to be the same thing is a sort of good and they were as in a state of all and the other and is not a state of the same state the true of the whole of of the whole the soul of the soul and is not not a sort of the same principle is of the whole of good he will be the same and not the state and the state is the other and is the other of the whole state is a state and the state and the other is the best of the other state and the same thing is the same and is a little one of the same and not not and not the soul of the whole state and the good and the same and the good of all that the other is the same and the other and will be no and the other of the soul and not the good and the same of a state which is not a man and the good man of the other which they are a state and is to be a state is to be a man has been the state are not not a city and the state are not the other and not the state and the state and is not the same thing is a whole state of the same and is a man has no and the same principle and of a and is to say and he is a man will be the same state and in the other and he will not a man is a state are to be the state is to be a man is the state is a man which is not a and the same principle of our way in which is not the other state is a state of the same thing and the same principle and is a man is the true of a city and the same thing are not in a man which the state of the state are the state which we were the same to be a state and the good of the whole state will be more that he will be the true he is not not that they are not a man of all and i am not to be found by the whole and of the other of the soul which the whole and will be a great and not the good to be the same and is the other which is not the same way of the soul of the same and the other and is the same man of the other is not not the state is the state is no longer the state are of a man which he said and you and not that is not a man and the state are to be a man of a man has to the other the state is no longer the state is to be the same way in the same state the same of a state are the same man is a sort of good and the same principle is the good and the state is to be found by them and not not a man of them to be in the other is not to the soul of the state is a state which he has been the best to a state of their own and the whole soul are to have a man and the good to the same and is the true of the same and will be the same and the other of the same way in the same and in the state and the other of the state of a man is not to the whole the state of good to the whole soul are a sort of the state of all and the state of a state of the other which is a state is true he is not not to the state is not to be the same state and will are no other the state which is to be the state and the same and the state of the same and not the state and in which they were to be the good and the greatest of the whole state of a man of the whole state of the state and the state and is the same and will have no way of the same thing is a sort of of the soul of the other is the true and not a state and not a state of the state is a man is to be in his own way of the same state are the other state and the other of good and he is the same state the same state are true he said and the other of the same thing the soul and the good and in a state of the other which is not a and is not the state are not in the soul and the whole soul and is to be the same man who is not the same and is to be and to be and the state and the same state is the state of all what will be more and is not a man has a man and a good of the state and the same and the state and is not to have been said and he said to the same and will be the same and will be the best of the other is no and the same principle and in the soul is not a state is true in a man which are the state and the same and the state and the other is to be found in the state and in which is a great and the state of the other of a man which is the same state the good of them and the same and not a state which they are the good is the true of all what is to be'"
      ]
     },
     "execution_count": 115,
     "metadata": {},
     "output_type": "execute_result"
    }
   ],
   "source": [
    "' '.join(output)"
   ]
  },
  {
   "cell_type": "markdown",
   "metadata": {},
   "source": [
    "Well, we manage to generate some words. However, we observe that some words are consistently repeated. This is likely a result of not accounting for stop words or words that generally appear more frequently in text. As the model observe these words more frequently, it maps a higher probability to them naturally, and thus, we observe a large number of these text in our output. In order to tackle this, we often will set a limit to the count of each word. Over a certain limit, we can choose to remove that word from our vocab list or cap the word.\n",
    "\n",
    "Another improve we can make is to include end of sentence tokens. Currently, all we get is a bunch of text with no differentiation with the start or end of sentences. This reduces the readability of our results which is not ideal."
   ]
  },
  {
   "cell_type": "code",
   "execution_count": null,
   "metadata": {},
   "outputs": [],
   "source": []
  }
 ],
 "metadata": {
  "kernelspec": {
   "display_name": "Python 3",
   "language": "python",
   "name": "python3"
  },
  "language_info": {
   "codemirror_mode": {
    "name": "ipython",
    "version": 3
   },
   "file_extension": ".py",
   "mimetype": "text/x-python",
   "name": "python",
   "nbconvert_exporter": "python",
   "pygments_lexer": "ipython3",
   "version": "3.7.4"
  }
 },
 "nbformat": 4,
 "nbformat_minor": 2
}
